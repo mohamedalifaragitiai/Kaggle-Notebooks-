{
 "cells": [
  {
   "cell_type": "code",
   "execution_count": 1,
   "id": "111b248e",
   "metadata": {
    "_cell_guid": "b1076dfc-b9ad-4769-8c92-a6c4dae69d19",
    "_uuid": "8f2839f25d086af736a60e9eeb907d3b93b6e0e5",
    "execution": {
     "iopub.execute_input": "2022-06-09T16:19:21.191259Z",
     "iopub.status.busy": "2022-06-09T16:19:21.190883Z",
     "iopub.status.idle": "2022-06-09T16:19:21.203004Z",
     "shell.execute_reply": "2022-06-09T16:19:21.201988Z"
    },
    "papermill": {
     "duration": 0.027525,
     "end_time": "2022-06-09T16:19:21.205618",
     "exception": false,
     "start_time": "2022-06-09T16:19:21.178093",
     "status": "completed"
    },
    "tags": []
   },
   "outputs": [],
   "source": [
    "# This Python 3 environment comes with many helpful analytics libraries installed\n",
    "# It is defined by the kaggle/python Docker image: https://github.com/kaggle/docker-python\n",
    "# For example, here's several helpful packages to load\n",
    "\n",
    "import numpy as np # linear algebra\n",
    "import pandas as pd # data processing, CSV file I/O (e.g. pd.read_csv)\n",
    "\n",
    "# Input data files are available in the read-only \"../input/\" directory\n",
    "# For example, running this (by clicking run or pressing Shift+Enter) will list all files under the input directory\n",
    "\n",
    "import os\n",
    "for dirname, _, filenames in os.walk('/kaggle/input'):\n",
    "    for filename in filenames:\n",
    "        print(os.path.join(dirname, filename))\n",
    "\n",
    "# You can write up to 20GB to the current directory (/kaggle/working/) that gets preserved as output when you create a version using \"Save & Run All\" \n",
    "# You can also write temporary files to /kaggle/temp/, but they won't be saved outside of the current session"
   ]
  },
  {
   "cell_type": "code",
   "execution_count": 2,
   "id": "a8eed1e0",
   "metadata": {
    "execution": {
     "iopub.execute_input": "2022-06-09T16:19:21.227610Z",
     "iopub.status.busy": "2022-06-09T16:19:21.226651Z",
     "iopub.status.idle": "2022-06-09T16:19:22.555097Z",
     "shell.execute_reply": "2022-06-09T16:19:22.554035Z"
    },
    "papermill": {
     "duration": 1.341888,
     "end_time": "2022-06-09T16:19:22.557812",
     "exception": false,
     "start_time": "2022-06-09T16:19:21.215924",
     "status": "completed"
    },
    "tags": []
   },
   "outputs": [],
   "source": [
    "import numpy as np\n",
    "from sklearn.linear_model import LinearRegression"
   ]
  },
  {
   "cell_type": "code",
   "execution_count": 3,
   "id": "ded076e3",
   "metadata": {
    "execution": {
     "iopub.execute_input": "2022-06-09T16:19:22.578066Z",
     "iopub.status.busy": "2022-06-09T16:19:22.577613Z",
     "iopub.status.idle": "2022-06-09T16:19:22.581546Z",
     "shell.execute_reply": "2022-06-09T16:19:22.580956Z"
    },
    "papermill": {
     "duration": 0.016291,
     "end_time": "2022-06-09T16:19:22.583448",
     "exception": false,
     "start_time": "2022-06-09T16:19:22.567157",
     "status": "completed"
    },
    "tags": []
   },
   "outputs": [],
   "source": [
    "import numpy as np\n",
    "from sklearn.linear_model import LinearRegression"
   ]
  },
  {
   "cell_type": "code",
   "execution_count": 4,
   "id": "190c9c83",
   "metadata": {
    "execution": {
     "iopub.execute_input": "2022-06-09T16:19:22.603455Z",
     "iopub.status.busy": "2022-06-09T16:19:22.603064Z",
     "iopub.status.idle": "2022-06-09T16:19:22.607533Z",
     "shell.execute_reply": "2022-06-09T16:19:22.606954Z"
    },
    "papermill": {
     "duration": 0.017222,
     "end_time": "2022-06-09T16:19:22.609826",
     "exception": false,
     "start_time": "2022-06-09T16:19:22.592604",
     "status": "completed"
    },
    "tags": []
   },
   "outputs": [],
   "source": [
    "X = np.array([[2, 1], [3, 2], [4, 2], [5, 1]])\n"
   ]
  },
  {
   "cell_type": "code",
   "execution_count": 5,
   "id": "aa537487",
   "metadata": {
    "execution": {
     "iopub.execute_input": "2022-06-09T16:19:22.630423Z",
     "iopub.status.busy": "2022-06-09T16:19:22.630022Z",
     "iopub.status.idle": "2022-06-09T16:19:22.635632Z",
     "shell.execute_reply": "2022-06-09T16:19:22.634795Z"
    },
    "papermill": {
     "duration": 0.018502,
     "end_time": "2022-06-09T16:19:22.637771",
     "exception": false,
     "start_time": "2022-06-09T16:19:22.619269",
     "status": "completed"
    },
    "tags": []
   },
   "outputs": [],
   "source": [
    "# y = 1 * x_0 + 2 *x_1 + 3\n",
    "y = np.dot(X, np.array([1, 2])) +3 "
   ]
  },
  {
   "cell_type": "code",
   "execution_count": 6,
   "id": "f1b39202",
   "metadata": {
    "execution": {
     "iopub.execute_input": "2022-06-09T16:19:22.658302Z",
     "iopub.status.busy": "2022-06-09T16:19:22.658022Z",
     "iopub.status.idle": "2022-06-09T16:19:22.679424Z",
     "shell.execute_reply": "2022-06-09T16:19:22.678255Z"
    },
    "papermill": {
     "duration": 0.034481,
     "end_time": "2022-06-09T16:19:22.681638",
     "exception": false,
     "start_time": "2022-06-09T16:19:22.647157",
     "status": "completed"
    },
    "tags": []
   },
   "outputs": [],
   "source": [
    "lr = LinearRegression().fit(X, y)"
   ]
  },
  {
   "cell_type": "code",
   "execution_count": 7,
   "id": "c6443840",
   "metadata": {
    "execution": {
     "iopub.execute_input": "2022-06-09T16:19:22.702437Z",
     "iopub.status.busy": "2022-06-09T16:19:22.702017Z",
     "iopub.status.idle": "2022-06-09T16:19:22.716227Z",
     "shell.execute_reply": "2022-06-09T16:19:22.715571Z"
    },
    "papermill": {
     "duration": 0.027494,
     "end_time": "2022-06-09T16:19:22.718739",
     "exception": false,
     "start_time": "2022-06-09T16:19:22.691245",
     "status": "completed"
    },
    "tags": []
   },
   "outputs": [
    {
     "data": {
      "text/plain": [
       "array([14.])"
      ]
     },
     "execution_count": 7,
     "metadata": {},
     "output_type": "execute_result"
    }
   ],
   "source": [
    "lr.predict(np.array([[1,5]]))"
   ]
  },
  {
   "cell_type": "code",
   "execution_count": null,
   "id": "03c9ccdb",
   "metadata": {
    "papermill": {
     "duration": 0.010154,
     "end_time": "2022-06-09T16:19:22.738886",
     "exception": false,
     "start_time": "2022-06-09T16:19:22.728732",
     "status": "completed"
    },
    "tags": []
   },
   "outputs": [],
   "source": []
  }
 ],
 "metadata": {
  "kernelspec": {
   "display_name": "Python 3",
   "language": "python",
   "name": "python3"
  },
  "language_info": {
   "codemirror_mode": {
    "name": "ipython",
    "version": 3
   },
   "file_extension": ".py",
   "mimetype": "text/x-python",
   "name": "python",
   "nbconvert_exporter": "python",
   "pygments_lexer": "ipython3",
   "version": "3.7.12"
  },
  "papermill": {
   "default_parameters": {},
   "duration": 12.708932,
   "end_time": "2022-06-09T16:19:23.471623",
   "environment_variables": {},
   "exception": null,
   "input_path": "__notebook__.ipynb",
   "output_path": "__notebook__.ipynb",
   "parameters": {},
   "start_time": "2022-06-09T16:19:10.762691",
   "version": "2.3.4"
  }
 },
 "nbformat": 4,
 "nbformat_minor": 5
}
