{
 "cells": [
  {
   "cell_type": "markdown",
   "metadata": {},
   "source": [
    "**Linear Regression model from scratch**"
   ]
  },
  {
   "cell_type": "markdown",
   "metadata": {
    "_uuid": "9fc285f747982f6af9a6c0c2172203eb0f3df803"
   },
   "source": [
    "## Linear Regression\n",
    "Linear Regressoin is the most basic and popular algorithm of machine learning. It is supervised machine learning algorithm which is predicted output is real values/continuous. Or, Relationship between input/independent variables and single output/dependent variable. \n",
    "We will get linear regression image look like : -\n",
    "![image](https://upload.wikimedia.org/wikipedia/commons/thumb/3/3a/Linear_regression.svg/800px-Linear_regression.svg.png)\n",
    "#### Linear Regression has main two type: -\n",
    "    1. Simple Linear Regression\n",
    "    2. Multiple Linear Regression\n",
    "### Simple Linear Regression\n",
    "A linear line relationship between one input/independent variable(X) and one output/dependent variable(y).\n",
    "\n",
    "     y = mX + b\n",
    "Where, y is dependent/target variable; X is input/independent variable; m is slop of regression line; b is y-intercept.\n",
    "### Multiple Linear Regression\n",
    "A relationship betweet two or more independent/input variables and one continuous dependent/output variable.\n",
    "    \n",
    "  "
   ]
  },
  {
   "cell_type": "code",
   "execution_count": 1,
   "metadata": {},
   "outputs": [],
   "source": []
  },
  {
   "cell_type": "code",
   "execution_count": 1,
   "metadata": {
    "_cell_guid": "f9d988d7-333b-48eb-82da-a27fd34c711f",
    "_uuid": "78cf9b50f095deed049d07b0724fde39da4520d1",
    "execution": {
     "iopub.execute_input": "2022-06-11T13:11:04.187273Z",
     "iopub.status.busy": "2022-06-11T13:11:04.186971Z",
     "iopub.status.idle": "2022-06-11T13:11:05.084957Z",
     "shell.execute_reply": "2022-06-11T13:11:05.084008Z",
     "shell.execute_reply.started": "2022-06-11T13:11:04.187218Z"
    }
   },
   "outputs": [],
   "source": [
    "#load all needed libraries\n",
    "import numpy as np\n",
    "import matplotlib.pyplot as plt\n",
    "import seaborn as sb\n",
    "import pandas as pd\n",
    "%matplotlib inline"
   ]
  },
  {
   "cell_type": "code",
   "execution_count": 2,
   "metadata": {
    "_cell_guid": "a9b44517-d670-4345-9e3b-8a2444ad166d",
    "_uuid": "0f16d4eae07eddbb35f24c9c9f441f3f5d0bef36",
    "execution": {
     "iopub.execute_input": "2022-06-11T13:11:06.105913Z",
     "iopub.status.busy": "2022-06-11T13:11:06.105614Z",
     "iopub.status.idle": "2022-06-11T13:11:06.207694Z",
     "shell.execute_reply": "2022-06-11T13:11:06.206664Z",
     "shell.execute_reply.started": "2022-06-11T13:11:06.105871Z"
    }
   },
   "outputs": [],
   "source": [
    "#load data for train and test\n",
    "train = pd.read_csv('../input/train.csv')\n",
    "test = pd.read_csv('../input/test.csv')"
   ]
  },
  {
   "cell_type": "code",
   "execution_count": 3,
   "metadata": {
    "_cell_guid": "de68822f-1cd5-4d28-ae0e-f59b74b1d1df",
    "_uuid": "9820c56a9114aefbfebd66dc08c7d615e33ca4a6",
    "execution": {
     "iopub.execute_input": "2022-06-11T13:11:07.388424Z",
     "iopub.status.busy": "2022-06-11T13:11:07.388081Z",
     "iopub.status.idle": "2022-06-11T13:11:07.414939Z",
     "shell.execute_reply": "2022-06-11T13:11:07.413883Z",
     "shell.execute_reply.started": "2022-06-11T13:11:07.388368Z"
    }
   },
   "outputs": [
    {
     "data": {
      "text/html": [
       "<div>\n",
       "<style scoped>\n",
       "    .dataframe tbody tr th:only-of-type {\n",
       "        vertical-align: middle;\n",
       "    }\n",
       "\n",
       "    .dataframe tbody tr th {\n",
       "        vertical-align: top;\n",
       "    }\n",
       "\n",
       "    .dataframe thead th {\n",
       "        text-align: right;\n",
       "    }\n",
       "</style>\n",
       "<table border=\"1\" class=\"dataframe\">\n",
       "  <thead>\n",
       "    <tr style=\"text-align: right;\">\n",
       "      <th></th>\n",
       "      <th>x</th>\n",
       "      <th>y</th>\n",
       "    </tr>\n",
       "  </thead>\n",
       "  <tbody>\n",
       "    <tr>\n",
       "      <th>0</th>\n",
       "      <td>24.0</td>\n",
       "      <td>21.549452</td>\n",
       "    </tr>\n",
       "    <tr>\n",
       "      <th>1</th>\n",
       "      <td>50.0</td>\n",
       "      <td>47.464463</td>\n",
       "    </tr>\n",
       "    <tr>\n",
       "      <th>2</th>\n",
       "      <td>15.0</td>\n",
       "      <td>17.218656</td>\n",
       "    </tr>\n",
       "    <tr>\n",
       "      <th>3</th>\n",
       "      <td>38.0</td>\n",
       "      <td>36.586398</td>\n",
       "    </tr>\n",
       "    <tr>\n",
       "      <th>4</th>\n",
       "      <td>87.0</td>\n",
       "      <td>87.288984</td>\n",
       "    </tr>\n",
       "  </tbody>\n",
       "</table>\n",
       "</div>"
      ],
      "text/plain": [
       "      x          y\n",
       "0  24.0  21.549452\n",
       "1  50.0  47.464463\n",
       "2  15.0  17.218656\n",
       "3  38.0  36.586398\n",
       "4  87.0  87.288984"
      ]
     },
     "execution_count": 3,
     "metadata": {},
     "output_type": "execute_result"
    }
   ],
   "source": [
    "#view some train data\n",
    "train.head()"
   ]
  },
  {
   "cell_type": "code",
   "execution_count": 4,
   "metadata": {
    "_cell_guid": "f431c1cb-941c-4bac-ba72-8fbba48f87ad",
    "_uuid": "6931a8cfa82d85e1a597e04fd2662caf38c6e4d5",
    "execution": {
     "iopub.execute_input": "2022-06-11T13:11:08.358169Z",
     "iopub.status.busy": "2022-06-11T13:11:08.357691Z",
     "iopub.status.idle": "2022-06-11T13:11:08.371948Z",
     "shell.execute_reply": "2022-06-11T13:11:08.370854Z",
     "shell.execute_reply.started": "2022-06-11T13:11:08.358105Z"
    }
   },
   "outputs": [
    {
     "data": {
      "text/html": [
       "<div>\n",
       "<style scoped>\n",
       "    .dataframe tbody tr th:only-of-type {\n",
       "        vertical-align: middle;\n",
       "    }\n",
       "\n",
       "    .dataframe tbody tr th {\n",
       "        vertical-align: top;\n",
       "    }\n",
       "\n",
       "    .dataframe thead th {\n",
       "        text-align: right;\n",
       "    }\n",
       "</style>\n",
       "<table border=\"1\" class=\"dataframe\">\n",
       "  <thead>\n",
       "    <tr style=\"text-align: right;\">\n",
       "      <th></th>\n",
       "      <th>x</th>\n",
       "      <th>y</th>\n",
       "    </tr>\n",
       "  </thead>\n",
       "  <tbody>\n",
       "    <tr>\n",
       "      <th>0</th>\n",
       "      <td>77</td>\n",
       "      <td>79.775152</td>\n",
       "    </tr>\n",
       "    <tr>\n",
       "      <th>1</th>\n",
       "      <td>21</td>\n",
       "      <td>23.177279</td>\n",
       "    </tr>\n",
       "    <tr>\n",
       "      <th>2</th>\n",
       "      <td>22</td>\n",
       "      <td>25.609262</td>\n",
       "    </tr>\n",
       "    <tr>\n",
       "      <th>3</th>\n",
       "      <td>20</td>\n",
       "      <td>17.857388</td>\n",
       "    </tr>\n",
       "    <tr>\n",
       "      <th>4</th>\n",
       "      <td>36</td>\n",
       "      <td>41.849864</td>\n",
       "    </tr>\n",
       "  </tbody>\n",
       "</table>\n",
       "</div>"
      ],
      "text/plain": [
       "    x          y\n",
       "0  77  79.775152\n",
       "1  21  23.177279\n",
       "2  22  25.609262\n",
       "3  20  17.857388\n",
       "4  36  41.849864"
      ]
     },
     "execution_count": 4,
     "metadata": {},
     "output_type": "execute_result"
    }
   ],
   "source": [
    "#view some test data\n",
    "test.head()"
   ]
  },
  {
   "cell_type": "code",
   "execution_count": 5,
   "metadata": {
    "_cell_guid": "989e1ac8-9bbe-498f-9481-d5ceb45079ad",
    "_uuid": "35e43d54213f6558c1e1ffff3c3f8edc5376fb30",
    "execution": {
     "iopub.execute_input": "2022-06-11T13:11:09.199273Z",
     "iopub.status.busy": "2022-06-11T13:11:09.198327Z",
     "iopub.status.idle": "2022-06-11T13:11:09.206611Z",
     "shell.execute_reply": "2022-06-11T13:11:09.205584Z",
     "shell.execute_reply.started": "2022-06-11T13:11:09.199181Z"
    }
   },
   "outputs": [
    {
     "data": {
      "text/plain": [
       "(700, 2)"
      ]
     },
     "execution_count": 5,
     "metadata": {},
     "output_type": "execute_result"
    }
   ],
   "source": [
    "#shape of train dataset\n",
    "train.shape"
   ]
  },
  {
   "cell_type": "code",
   "execution_count": 6,
   "metadata": {
    "_cell_guid": "9c9d6d65-a338-4197-87e2-21723a1a1a04",
    "_uuid": "6447003cc77f3e48084d0ec2f6a0bcb4a499339a",
    "execution": {
     "iopub.execute_input": "2022-06-11T13:11:10.067257Z",
     "iopub.status.busy": "2022-06-11T13:11:10.066663Z",
     "iopub.status.idle": "2022-06-11T13:11:10.072925Z",
     "shell.execute_reply": "2022-06-11T13:11:10.071926Z",
     "shell.execute_reply.started": "2022-06-11T13:11:10.067210Z"
    }
   },
   "outputs": [
    {
     "data": {
      "text/plain": [
       "(300, 2)"
      ]
     },
     "execution_count": 6,
     "metadata": {},
     "output_type": "execute_result"
    }
   ],
   "source": [
    "#shape of test dataset\n",
    "test.shape"
   ]
  },
  {
   "cell_type": "markdown",
   "metadata": {
    "_cell_guid": "8fc7bac6-8d72-433f-add6-4d4e650f80ef",
    "_uuid": "d5e09551764d963fe7d52c7dacc70e3b3488e05a"
   },
   "source": [
    "### Analysis on train dataset"
   ]
  },
  {
   "cell_type": "code",
   "execution_count": 7,
   "metadata": {
    "_cell_guid": "926705b5-6d38-44a7-86cb-a9c09e8e70bd",
    "_uuid": "16d13d3c26828e7f742bd81712998c79beafb40a",
    "execution": {
     "iopub.execute_input": "2022-06-11T13:11:11.981537Z",
     "iopub.status.busy": "2022-06-11T13:11:11.980728Z",
     "iopub.status.idle": "2022-06-11T13:11:11.994512Z",
     "shell.execute_reply": "2022-06-11T13:11:11.993116Z",
     "shell.execute_reply.started": "2022-06-11T13:11:11.981473Z"
    }
   },
   "outputs": [
    {
     "name": "stdout",
     "output_type": "stream",
     "text": [
      "<class 'pandas.core.frame.DataFrame'>\n",
      "RangeIndex: 700 entries, 0 to 699\n",
      "Data columns (total 2 columns):\n",
      "x    700 non-null float64\n",
      "y    699 non-null float64\n",
      "dtypes: float64(2)\n",
      "memory usage: 11.0 KB\n"
     ]
    }
   ],
   "source": [
    "#check data type of each column\n",
    "train.info()"
   ]
  },
  {
   "cell_type": "markdown",
   "metadata": {
    "_cell_guid": "f9fd386c-173f-4919-b83b-f7f35a401b35",
    "_uuid": "0adbaf136a6fc6664bcb2d2e0167929daf7b9561"
   },
   "source": [
    "### Let's check missing values"
   ]
  },
  {
   "cell_type": "code",
   "execution_count": 8,
   "metadata": {
    "_cell_guid": "adf0f51e-460a-4900-b959-ac0d4073a432",
    "_uuid": "a01e0f5c47c6d06f91ad9583b13b932d6ad11aa4",
    "execution": {
     "iopub.execute_input": "2022-06-11T13:11:13.721409Z",
     "iopub.status.busy": "2022-06-11T13:11:13.720769Z",
     "iopub.status.idle": "2022-06-11T13:11:13.729845Z",
     "shell.execute_reply": "2022-06-11T13:11:13.728809Z",
     "shell.execute_reply.started": "2022-06-11T13:11:13.721343Z"
    }
   },
   "outputs": [
    {
     "data": {
      "text/plain": [
       "x    False\n",
       "y     True\n",
       "dtype: bool"
      ]
     },
     "execution_count": 8,
     "metadata": {},
     "output_type": "execute_result"
    }
   ],
   "source": [
    "#check missing values with 'isnull' command \n",
    "train.isnull().any()"
   ]
  },
  {
   "cell_type": "code",
   "execution_count": 9,
   "metadata": {
    "_cell_guid": "8e37aa43-f8a9-4fbc-87eb-87168543556e",
    "_uuid": "14c3734c2a4041014db9dece0e9f1fa243a27d24",
    "execution": {
     "iopub.execute_input": "2022-06-11T13:11:15.046795Z",
     "iopub.status.busy": "2022-06-11T13:11:15.046498Z",
     "iopub.status.idle": "2022-06-11T13:11:15.052076Z",
     "shell.execute_reply": "2022-06-11T13:11:15.051428Z",
     "shell.execute_reply.started": "2022-06-11T13:11:15.046739Z"
    }
   },
   "outputs": [
    {
     "data": {
      "text/plain": [
       "1"
      ]
     },
     "execution_count": 9,
     "metadata": {},
     "output_type": "execute_result"
    }
   ],
   "source": [
    "#count, how many missing value is in this attributes\n",
    "train['y'].isnull().sum()"
   ]
  },
  {
   "cell_type": "markdown",
   "metadata": {
    "_cell_guid": "8afa9e09-bb6d-459c-acf7-3fc7dcbc66cc",
    "_uuid": "fce5dd2a183e9e2e9ca30b8996b55787f0710542"
   },
   "source": [
    "#### There is 1 missing value available in 'y' column"
   ]
  },
  {
   "cell_type": "markdown",
   "metadata": {
    "_cell_guid": "2e8abcb7-c360-468f-bdee-a1469ce593d0",
    "_uuid": "1a3e8b53c0da2572c1f269b590065095834b78d4"
   },
   "source": [
    "### **Now, Problem is that how to handle missing values ?**\n",
    "Solution : For missing values, there is some approach to handle the missing values like:-\n",
    "\n",
    "    1. Remove Rows With Missing Values\n",
    "    2. Imputting missing values with Mean, Median or Mode values of the Column\n",
    "   And, for more infomation [click here](https://machinelearningmastery.com/handle-missing-data-python/)"
   ]
  },
  {
   "cell_type": "code",
   "execution_count": 10,
   "metadata": {
    "_cell_guid": "f84acc62-a166-40e7-844f-ba4a6ce53ca6",
    "_uuid": "b1b00a34315ea63f09c8c19cf1912b60a881b07d",
    "execution": {
     "iopub.execute_input": "2022-06-11T13:11:17.572708Z",
     "iopub.status.busy": "2022-06-11T13:11:17.572049Z",
     "iopub.status.idle": "2022-06-11T13:11:17.581143Z",
     "shell.execute_reply": "2022-06-11T13:11:17.580310Z",
     "shell.execute_reply.started": "2022-06-11T13:11:17.572660Z"
    }
   },
   "outputs": [],
   "source": [
    "# Here, I remove Row of with missing value\n",
    "train = train.dropna()"
   ]
  },
  {
   "cell_type": "code",
   "execution_count": 11,
   "metadata": {
    "_cell_guid": "5d425ca2-a654-42ee-97c8-04da348656e2",
    "_uuid": "69edaacf71a24856df51cee86d316e1fe0aa3ca5",
    "execution": {
     "iopub.execute_input": "2022-06-11T13:11:18.131203Z",
     "iopub.status.busy": "2022-06-11T13:11:18.130857Z",
     "iopub.status.idle": "2022-06-11T13:11:18.714867Z",
     "shell.execute_reply": "2022-06-11T13:11:18.713835Z",
     "shell.execute_reply.started": "2022-06-11T13:11:18.131124Z"
    },
    "scrolled": true
   },
   "outputs": [
    {
     "name": "stdout",
     "output_type": "stream",
     "text": [
      "x    False\n",
      "y    False\n",
      "dtype: bool\n"
     ]
    },
    {
     "data": {
      "image/png": "[encoded data removed]",
      "text/plain": [
       "<Figure size 432x288 with 2 Axes>"
      ]
     },
     "metadata": {},
     "output_type": "display_data"
    }
   ],
   "source": [
    "#Now check there is missing value or not\n",
    "print(train.isnull().any())\n",
    "\n",
    "#plot\n",
    "sb.heatmap(train.isnull())\n",
    "plt.show()"
   ]
  },
  {
   "cell_type": "markdown",
   "metadata": {
    "_cell_guid": "034820c5-1d88-4b13-8698-bb816f785c04",
    "_uuid": "86eff46d4aae96a4c997dad488d9e8a26cc9726c"
   },
   "source": [
    "#### Now, there is no any missing values"
   ]
  },
  {
   "cell_type": "code",
   "execution_count": 12,
   "metadata": {
    "_cell_guid": "9e4b2917-6964-4e5f-a01a-937f6228742c",
    "_uuid": "b23f8c8d9d02aa9eeb8c762141b05ba8fe6ec11b",
    "execution": {
     "iopub.execute_input": "2022-06-11T13:11:19.215387Z",
     "iopub.status.busy": "2022-06-11T13:11:19.214778Z",
     "iopub.status.idle": "2022-06-11T13:11:19.247372Z",
     "shell.execute_reply": "2022-06-11T13:11:19.246468Z",
     "shell.execute_reply.started": "2022-06-11T13:11:19.215321Z"
    }
   },
   "outputs": [
    {
     "data": {
      "text/html": [
       "<div>\n",
       "<style scoped>\n",
       "    .dataframe tbody tr th:only-of-type {\n",
       "        vertical-align: middle;\n",
       "    }\n",
       "\n",
       "    .dataframe tbody tr th {\n",
       "        vertical-align: top;\n",
       "    }\n",
       "\n",
       "    .dataframe thead th {\n",
       "        text-align: right;\n",
       "    }\n",
       "</style>\n",
       "<table border=\"1\" class=\"dataframe\">\n",
       "  <thead>\n",
       "    <tr style=\"text-align: right;\">\n",
       "      <th></th>\n",
       "      <th>x</th>\n",
       "      <th>y</th>\n",
       "    </tr>\n",
       "  </thead>\n",
       "  <tbody>\n",
       "    <tr>\n",
       "      <th>count</th>\n",
       "      <td>699.000000</td>\n",
       "      <td>699.000000</td>\n",
       "    </tr>\n",
       "    <tr>\n",
       "      <th>mean</th>\n",
       "      <td>50.014306</td>\n",
       "      <td>49.939869</td>\n",
       "    </tr>\n",
       "    <tr>\n",
       "      <th>std</th>\n",
       "      <td>28.954560</td>\n",
       "      <td>29.109217</td>\n",
       "    </tr>\n",
       "    <tr>\n",
       "      <th>min</th>\n",
       "      <td>0.000000</td>\n",
       "      <td>-3.839981</td>\n",
       "    </tr>\n",
       "    <tr>\n",
       "      <th>25%</th>\n",
       "      <td>25.000000</td>\n",
       "      <td>24.929968</td>\n",
       "    </tr>\n",
       "    <tr>\n",
       "      <th>50%</th>\n",
       "      <td>49.000000</td>\n",
       "      <td>48.973020</td>\n",
       "    </tr>\n",
       "    <tr>\n",
       "      <th>75%</th>\n",
       "      <td>75.000000</td>\n",
       "      <td>74.929911</td>\n",
       "    </tr>\n",
       "    <tr>\n",
       "      <th>max</th>\n",
       "      <td>100.000000</td>\n",
       "      <td>108.871618</td>\n",
       "    </tr>\n",
       "  </tbody>\n",
       "</table>\n",
       "</div>"
      ],
      "text/plain": [
       "                x           y\n",
       "count  699.000000  699.000000\n",
       "mean    50.014306   49.939869\n",
       "std     28.954560   29.109217\n",
       "min      0.000000   -3.839981\n",
       "25%     25.000000   24.929968\n",
       "50%     49.000000   48.973020\n",
       "75%     75.000000   74.929911\n",
       "max    100.000000  108.871618"
      ]
     },
     "execution_count": 12,
     "metadata": {},
     "output_type": "execute_result"
    }
   ],
   "source": [
    "#describe of data into statical form\n",
    "train.describe()"
   ]
  },
  {
   "cell_type": "markdown",
   "metadata": {
    "_cell_guid": "83171a74-bd59-48f5-831b-dd9960c3132a",
    "_uuid": "05845b88e6878bb86518f5b3e10a956abb043f3c"
   },
   "source": [
    "## Visualization of train dataset"
   ]
  },
  {
   "cell_type": "code",
   "execution_count": 13,
   "metadata": {
    "_uuid": "efdafc54ff794a29d6b5a5fc6182abdb0310f8af",
    "execution": {
     "iopub.execute_input": "2022-06-11T13:11:20.276622Z",
     "iopub.status.busy": "2022-06-11T13:11:20.276058Z",
     "iopub.status.idle": "2022-06-11T13:11:20.655347Z",
     "shell.execute_reply": "2022-06-11T13:11:20.654085Z",
     "shell.execute_reply.started": "2022-06-11T13:11:20.276375Z"
    }
   },
   "outputs": [
    {
     "data": {
      "image/png": "[encoded data removed]",
      "text/plain": [
       "<Figure size 432x288 with 2 Axes>"
      ]
     },
     "metadata": {},
     "output_type": "display_data"
    }
   ],
   "source": [
    "#Histograme od train dataset\n",
    "train.hist()\n",
    "plt.show()"
   ]
  },
  {
   "cell_type": "code",
   "execution_count": 14,
   "metadata": {
    "_uuid": "12add1c12245a8888218152262dc4cd641b05aae",
    "execution": {
     "iopub.execute_input": "2022-06-11T13:11:20.818110Z",
     "iopub.status.busy": "2022-06-11T13:11:20.817637Z",
     "iopub.status.idle": "2022-06-11T13:11:21.074132Z",
     "shell.execute_reply": "2022-06-11T13:11:21.072958Z",
     "shell.execute_reply.started": "2022-06-11T13:11:20.818066Z"
    }
   },
   "outputs": [
    {
     "data": {
      "image/png": "[encoded data removed]",
      "text/plain": [
       "<Figure size 432x288 with 1 Axes>"
      ]
     },
     "metadata": {},
     "output_type": "display_data"
    }
   ],
   "source": [
    "#Scatter plot\n",
    "plt.scatter(x=train.x, y=train.y, c='blue')\n",
    "plt.title('scatter plot')\n",
    "plt.xlabel('Independent variables')\n",
    "plt.ylabel('Dependent variables')\n",
    "plt.show()"
   ]
  },
  {
   "cell_type": "code",
   "execution_count": 15,
   "metadata": {
    "_cell_guid": "5f3fc82f-50e7-45ca-902c-bc19519d2267",
    "_uuid": "68fda61c91edf0c26f14b704de5a1c6951421116",
    "execution": {
     "iopub.execute_input": "2022-06-11T13:11:21.310438Z",
     "iopub.status.busy": "2022-06-11T13:11:21.309939Z",
     "iopub.status.idle": "2022-06-11T13:11:21.722102Z",
     "shell.execute_reply": "2022-06-11T13:11:21.720904Z",
     "shell.execute_reply.started": "2022-06-11T13:11:21.310389Z"
    }
   },
   "outputs": [
    {
     "data": {
      "image/png": "[encoded data removed]",
      "text/plain": [
       "<Figure size 864x576 with 4 Axes>"
      ]
     },
     "metadata": {},
     "output_type": "display_data"
    }
   ],
   "source": [
    "#BoxPlot\n",
    "train.plot(kind='box', subplots=True, layout=(2, 2), figsize=(12, 8))\n",
    "plt.show()"
   ]
  },
  {
   "cell_type": "markdown",
   "metadata": {
    "_cell_guid": "a5b12043-0fed-410c-918b-15879e956570",
    "_uuid": "ba3aacd476a77f17ead04285f0408e80b7bd2dcb"
   },
   "source": [
    "### [What is box plot ?](http://whatis.techtarget.com/definition/box-plot)"
   ]
  },
  {
   "cell_type": "code",
   "execution_count": 16,
   "metadata": {
    "_uuid": "18ba8803cdfd351e9add0744dd6028a757f4b856",
    "execution": {
     "iopub.execute_input": "2022-06-11T13:11:22.263620Z",
     "iopub.status.busy": "2022-06-11T13:11:22.263004Z",
     "iopub.status.idle": "2022-06-11T13:11:22.267544Z",
     "shell.execute_reply": "2022-06-11T13:11:22.266773Z",
     "shell.execute_reply.started": "2022-06-11T13:11:22.263572Z"
    }
   },
   "outputs": [],
   "source": [
    "#Input Variable \n",
    "X = train.x.values\n",
    "#Output Variable\n",
    "y = train.y.values"
   ]
  },
  {
   "cell_type": "markdown",
   "metadata": {
    "_uuid": "19d4299be86b93aa9a672e98a5e1b88057b338f2"
   },
   "source": [
    " Let's find the slop of regression line(m) and bais(y-intercept). we can find these using diffrente approaches. Like:- Ordinary Least Square approach and Gradient Descent approach.\n",
    " \n",
    " ## Ordinary Least Square\n",
    " Earlier in this we discussed that the relationship between independent(X) variable and dependent(y) variable is know as linear regression.\n",
    " \n",
    " **Orinary Least Sqaure** - the sum of the squares of the differences between an observation’s actual and estimated values.\n",
    "![Regression image](https://d1jnx9ba8s6j9r.cloudfront.net/blog/wp-content/uploads/2018/06/Least-Square-Method-2-399x300.png) \n",
    "Total error of this model is the sum of all errors of each point. ie.\n",
    "\n",
    "$$SE=\\sum_{i=1}^nDi^2$$\n",
    "\n",
    "    Di = Distance between line and ith point.\n",
    "    n = Total number of points\n",
    "## Let's start Implementation\n",
    "    1. Calculate Mean and Variance\n",
    "    2. Calculate Covariance.\n",
    "    3. Estimate Coefficients.\n",
    "    4. Make prediction\n",
    "    5. Evaluating Model with RMSE\n",
    "\n",
    "### **Calculate Mean and Variance**\n",
    "Mean of numbers can be calculate as: -\n",
    "\n",
    "    mean(x) = sum(x) / count(x)\n",
    "Varience of numbers can be calculate as: -\n",
    "    \n",
    "    variance = sum((x - mean(x))^2)\n",
    "\n"
   ]
  },
  {
   "cell_type": "code",
   "execution_count": 17,
   "metadata": {
    "_uuid": "20bdcbb6141f2db4bce367e6a47197f440adba8f",
    "execution": {
     "iopub.execute_input": "2022-06-11T13:11:23.242741Z",
     "iopub.status.busy": "2022-06-11T13:11:23.242236Z",
     "iopub.status.idle": "2022-06-11T13:11:23.247073Z",
     "shell.execute_reply": "2022-06-11T13:11:23.246367Z",
     "shell.execute_reply.started": "2022-06-11T13:11:23.242691Z"
    }
   },
   "outputs": [],
   "source": [
    "#Calculate mean of list numbers with mean function\n",
    "def mean(numbers):\n",
    "    return sum(numbers) / float(len(numbers))\n",
    "\n",
    "#Calculate varience of list numbers with varience function\n",
    "def varience(numbers, mean):\n",
    "    return sum([abs(x-mean)**2 for x in numbers])"
   ]
  },
  {
   "cell_type": "code",
   "execution_count": 18,
   "metadata": {
    "_uuid": "96b425da4879ba8df1623ffa0ff46a250569fce3",
    "execution": {
     "iopub.execute_input": "2022-06-11T13:11:23.787267Z",
     "iopub.status.busy": "2022-06-11T13:11:23.786731Z",
     "iopub.status.idle": "2022-06-11T13:11:23.793722Z",
     "shell.execute_reply": "2022-06-11T13:11:23.793034Z",
     "shell.execute_reply.started": "2022-06-11T13:11:23.787220Z"
    }
   },
   "outputs": [],
   "source": [
    "X_mean, y_mean = mean(X), mean(y)\n",
    "X_varience = varience(X, X_mean)\n",
    "y_varience = varience(y, y_mean)"
   ]
  },
  {
   "cell_type": "markdown",
   "metadata": {
    "_uuid": "0145e2fd96458418de966891e3a0d10f816a3eeb"
   },
   "source": [
    "### **Calculate Covariance**\n",
    "covariance can describe the relationship between two or more groups of numbers. It is a generalization of correlation. Correlation describes the relationship between two groups of numbers.\n",
    " \n",
    " we can calculate the covariance between two variables as follows: \n",
    "       \n",
    "       covariance = sum((x(i) - mean(x)) * (y(i) - mean(y)))\n"
   ]
  },
  {
   "cell_type": "code",
   "execution_count": 19,
   "metadata": {
    "_uuid": "911dc9ac3ce9dcaa46f3bdf27462364fa85afd3a",
    "execution": {
     "iopub.execute_input": "2022-06-11T13:11:24.734167Z",
     "iopub.status.busy": "2022-06-11T13:11:24.733582Z",
     "iopub.status.idle": "2022-06-11T13:11:24.739129Z",
     "shell.execute_reply": "2022-06-11T13:11:24.738184Z",
     "shell.execute_reply.started": "2022-06-11T13:11:24.734110Z"
    }
   },
   "outputs": [],
   "source": [
    "#Calculate the covarience of these groups\n",
    "def covarience(X, X_mean, y, y_mean):\n",
    "    ln = len(X)\n",
    "    cov = 0.0\n",
    "    for i in range(ln):\n",
    "        cov += ((X[i] - X_mean) * (y[i] - y_mean))\n",
    "    return cov"
   ]
  },
  {
   "cell_type": "markdown",
   "metadata": {
    "_uuid": "7a068d7e2f19d9a5cc0a3205a4fe1fd0ef1ec7a1"
   },
   "source": [
    "### **Estimate Coefficients**\n",
    "We must estimate two coefficients in simple linear regression. which is m and b.\n",
    "\n",
    "    m = covarience() / varience()\n",
    "    b = mean(y) - (m*mean(X))"
   ]
  },
  {
   "cell_type": "code",
   "execution_count": 20,
   "metadata": {
    "_uuid": "39e940273f0b47de2835aa82c1cdfc610f383258",
    "execution": {
     "iopub.execute_input": "2022-06-11T13:11:27.144945Z",
     "iopub.status.busy": "2022-06-11T13:11:27.144643Z",
     "iopub.status.idle": "2022-06-11T13:11:27.150320Z",
     "shell.execute_reply": "2022-06-11T13:11:27.149052Z",
     "shell.execute_reply.started": "2022-06-11T13:11:27.144891Z"
    }
   },
   "outputs": [],
   "source": [
    "#Lets estimate with coefficient\n",
    "def coefficients():\n",
    "    m = covarience(X, X_mean, y, y_mean) / varience(X, X_mean)\n",
    "    b = y_mean - (m*X_mean)\n",
    "    return [m,b]"
   ]
  },
  {
   "cell_type": "markdown",
   "metadata": {
    "_uuid": "3793249692f5fae38adfbed8d3ed316c286bb4f6"
   },
   "source": [
    "### **Make prediction**\n",
    "We have been estimated the coefficients. Now, we can use them to make predictions follows by this eqation: -\n",
    "\n",
    "       y = mX + b\n",
    " "
   ]
  },
  {
   "cell_type": "code",
   "execution_count": 21,
   "metadata": {
    "_uuid": "efef2dc5c012a07b9800a518fe726c6fe2bfa684",
    "execution": {
     "iopub.execute_input": "2022-06-11T13:11:30.047047Z",
     "iopub.status.busy": "2022-06-11T13:11:30.046272Z",
     "iopub.status.idle": "2022-06-11T13:11:30.052905Z",
     "shell.execute_reply": "2022-06-11T13:11:30.052199Z",
     "shell.execute_reply.started": "2022-06-11T13:11:30.046975Z"
    }
   },
   "outputs": [],
   "source": [
    "#Let's seprate the test datasets and reshape it\n",
    "X_test = test['x'].values.reshape(-1, 1)\n",
    "y_test = test['y'].values.reshape(-1, 1)"
   ]
  },
  {
   "cell_type": "code",
   "execution_count": 22,
   "metadata": {
    "_uuid": "0fb604f853aaf6c316a8ae5855bed927870bda34",
    "execution": {
     "iopub.execute_input": "2022-06-11T13:11:30.873446Z",
     "iopub.status.busy": "2022-06-11T13:11:30.873102Z",
     "iopub.status.idle": "2022-06-11T13:11:30.879496Z",
     "shell.execute_reply": "2022-06-11T13:11:30.878409Z",
     "shell.execute_reply.started": "2022-06-11T13:11:30.873382Z"
    }
   },
   "outputs": [],
   "source": [
    "# simple_linear_regression() function making here to prediction\n",
    "def simple_linear_regression():\n",
    "    prediction = list()\n",
    "    m, c = coefficients()\n",
    "    for test in X_test:\n",
    "        y_pred = m*test[0] + c\n",
    "        prediction.append(y_pred)\n",
    "    return prediction"
   ]
  },
  {
   "cell_type": "code",
   "execution_count": 23,
   "metadata": {
    "_uuid": "0aec4e8d24683f9684ede4efefa2ef1cb2bec32d",
    "execution": {
     "iopub.execute_input": "2022-06-11T13:11:31.731619Z",
     "iopub.status.busy": "2022-06-11T13:11:31.730939Z",
     "iopub.status.idle": "2022-06-11T13:11:31.739505Z",
     "shell.execute_reply": "2022-06-11T13:11:31.738673Z",
     "shell.execute_reply.started": "2022-06-11T13:11:31.731550Z"
    }
   },
   "outputs": [],
   "source": [
    "predict = simple_linear_regression()"
   ]
  },
  {
   "cell_type": "code",
   "execution_count": 24,
   "metadata": {
    "_uuid": "144eff0de9c4e04d89663439309b4450e9addf1d",
    "execution": {
     "iopub.execute_input": "2022-06-11T13:11:32.644502Z",
     "iopub.status.busy": "2022-06-11T13:11:32.643864Z",
     "iopub.status.idle": "2022-06-11T13:11:32.943826Z",
     "shell.execute_reply": "2022-06-11T13:11:32.942707Z",
     "shell.execute_reply.started": "2022-06-11T13:11:32.644434Z"
    }
   },
   "outputs": [
    {
     "data": {
      "image/png": "[encoded data removed]",
      "text/plain": [
       "<Figure size 432x288 with 1 Axes>"
      ]
     },
     "metadata": {},
     "output_type": "display_data"
    }
   ],
   "source": [
    "# Ploting Line\n",
    "plt.plot(X_test, predict, c='red', label='Regression Line')\n",
    "# Ploting Scatter Points\n",
    "plt.scatter(X, y, label='data', c='blue')\n",
    "\n",
    "plt.xlabel('Independent variable')\n",
    "plt.ylabel('Dependent variable')\n",
    "plt.legend()\n",
    "plt.show()"
   ]
  },
  {
   "cell_type": "markdown",
   "metadata": {
    "_cell_guid": "13222632-be5a-4810-b951-fae4cecc3008",
    "_uuid": "00b6d93cf84438168b51bbdcc7d0fc4a9920b58c"
   },
   "source": [
    "### **Evaluating Model with Root Mean Sqare Error**\n",
    "We need to find how good is our model. There are many methods to evaluate models. Here we will use **Root Mean Sqare Error** and\n",
    "**Coefficient of Determination(R-Sqaure)**\n",
    "\n",
    "**Root Mean Sqare Error** is the square root of the sum of all errors divided by the number of values.\n",
    "![RMSE](https://cdn-images-1.medium.com/max/800/1*SGBsn7WytmYYbuTgDatIpw.gif)\n",
    "Here yj^ is the ith predicted output values.\n",
    "\n",
    "**R-Square**: It determines how much of the total variation in Y (dependent variable) is explained by the variation in X (independent variable). Mathematically, it can be written as:-\n",
    "![R-sqaure](https://s3-ap-south-1.amazonaws.com/av-blog-media/wp-content/uploads/2017/06/05203905/snip10.png)\n",
    "The value of R-square is always between 0 and 1, where 0 means that the model does not model explain any variability in the target variable (y) and 1 meaning it explains full variability in the target variable."
   ]
  },
  {
   "cell_type": "markdown",
   "metadata": {
    "_uuid": "e7e485b57633af13fbe0efc60ae99abffaa1b336"
   },
   "source": [
    "#### ** Let's find RMSE with root_mean_sqaure_error funtion below**"
   ]
  },
  {
   "cell_type": "code",
   "execution_count": 25,
   "metadata": {
    "_cell_guid": "dc268492-f926-45d4-8ca3-d42e53e8742c",
    "_uuid": "d7cb72413fb097802a5969e876ee6741c3705013",
    "execution": {
     "iopub.execute_input": "2022-06-11T13:11:37.458832Z",
     "iopub.status.busy": "2022-06-11T13:11:37.458198Z",
     "iopub.status.idle": "2022-06-11T13:11:37.464155Z",
     "shell.execute_reply": "2022-06-11T13:11:37.463210Z",
     "shell.execute_reply.started": "2022-06-11T13:11:37.458782Z"
    },
    "scrolled": true
   },
   "outputs": [],
   "source": [
    "def root_mean_sqaure_error():\n",
    "    rmse = 0.0\n",
    "    m, c = coefficients()\n",
    "    for i in range(len(X_test)):\n",
    "        yhat = m*X_test[i] + c\n",
    "        rmse += (y_test[i] - yhat)**2\n",
    "    rmse = np.sqrt(rmse/len(X_test))\n",
    "    return rmse"
   ]
  },
  {
   "cell_type": "code",
   "execution_count": 26,
   "metadata": {
    "_cell_guid": "cecc94e0-a04e-4bee-9f48-73e88c1201b8",
    "_uuid": "addb202225c4ebd4e2fd35065e1481f5da116dca",
    "execution": {
     "iopub.execute_input": "2022-06-11T13:11:38.786427Z",
     "iopub.status.busy": "2022-06-11T13:11:38.786090Z",
     "iopub.status.idle": "2022-06-11T13:11:38.799357Z",
     "shell.execute_reply": "2022-06-11T13:11:38.798124Z",
     "shell.execute_reply.started": "2022-06-11T13:11:38.786370Z"
    }
   },
   "outputs": [
    {
     "name": "stdout",
     "output_type": "stream",
     "text": [
      "3.0713062680298298\n"
     ]
    }
   ],
   "source": [
    "#Root Mean Sqare Error\n",
    "RMSE = root_mean_sqaure_error()\n",
    "print(RMSE[0])"
   ]
  },
  {
   "cell_type": "markdown",
   "metadata": {
    "_cell_guid": "cfc222e0-4ed4-4985-b534-add01cbecbdf",
    "_uuid": "0f4120cc9eccac655a2f7b74d758ce190c3c4ee9"
   },
   "source": [
    "#### **R-Sqaure with followed by r_sqaure function**"
   ]
  },
  {
   "cell_type": "code",
   "execution_count": 27,
   "metadata": {
    "_uuid": "b93fff3bd534f8f8f246cc1abeba3274deab9848",
    "execution": {
     "iopub.execute_input": "2022-06-11T13:11:40.932858Z",
     "iopub.status.busy": "2022-06-11T13:11:40.932554Z",
     "iopub.status.idle": "2022-06-11T13:11:40.939091Z",
     "shell.execute_reply": "2022-06-11T13:11:40.937957Z",
     "shell.execute_reply.started": "2022-06-11T13:11:40.932804Z"
    }
   },
   "outputs": [],
   "source": [
    "def r_sqaure():\n",
    "    #sst is the total sum of squares and ssr is the total sum of squares of residuals\n",
    "    sst = 0\n",
    "    ssr = 0\n",
    "    m, c = coefficients()\n",
    "    for i in range(len(X_test)):\n",
    "        ypred = m*X_test[i] + c\n",
    "        ssr += (y_test[i] - ypred)**2\n",
    "        sst += (y_test[i] - y_mean)**2\n",
    "    return (1-(ssr/sst))"
   ]
  },
  {
   "cell_type": "code",
   "execution_count": 28,
   "metadata": {
    "_uuid": "1bc945986fcac42c6b6cd3104f52a56a2f8e5e2d",
    "execution": {
     "iopub.execute_input": "2022-06-11T13:11:42.327246Z",
     "iopub.status.busy": "2022-06-11T13:11:42.326968Z",
     "iopub.status.idle": "2022-06-11T13:11:42.347769Z",
     "shell.execute_reply": "2022-06-11T13:11:42.346783Z",
     "shell.execute_reply.started": "2022-06-11T13:11:42.327204Z"
    }
   },
   "outputs": [
    {
     "name": "stdout",
     "output_type": "stream",
     "text": [
      "0.9888226846629965\n"
     ]
    }
   ],
   "source": [
    "#R-Sqaure\n",
    "score = r_sqaure()\n",
    "print(score[0])"
   ]
  },
  {
   "cell_type": "markdown",
   "metadata": {},
   "source": [
    "Than you for reach to end, Keep going **Abu Ali**"
   ]
  },
  {
   "cell_type": "code",
   "execution_count": 29,
   "metadata": {},
   "outputs": [],
   "source": []
  }
 ],
 "metadata": {
  "kernelspec": {
   "display_name": "Python 3",
   "language": "python",
   "name": "python3"
  },
  "language_info": {
   "codemirror_mode": {
    "name": "ipython",
    "version": 3
   },
   "file_extension": ".py",
   "mimetype": "text/x-python",
   "name": "python",
   "nbconvert_exporter": "python",
   "pygments_lexer": "ipython3",
   "version": "3.6.4"
  }
 },
 "nbformat": 4,
 "nbformat_minor": 4
}
